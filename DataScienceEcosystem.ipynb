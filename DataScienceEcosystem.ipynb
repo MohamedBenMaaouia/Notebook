{
 "cells": [
  {
   "cell_type": "markdown",
   "id": "9c4a25e2",
   "metadata": {},
   "source": [
    "# Data Science Tools and Ecosystem"
   ]
  },
  {
   "cell_type": "markdown",
   "id": "2b1c5ef1",
   "metadata": {},
   "source": [
    "In this notebook, Data Science Tools and Ecosystem are summarized.\n"
   ]
  },
  {
   "cell_type": "markdown",
   "id": "898d7495",
   "metadata": {},
   "source": [
    "Some of the popular languages that Data Scientists use are:\n",
    "1. Python\n",
    "2. SQL\n",
    "3. R"
   ]
  },
  {
   "cell_type": "markdown",
   "id": "688a2f9d",
   "metadata": {},
   "source": [
    "Some of the commonly used libraries used by Data Scientists include:\n",
    "1. Pandas\n",
    "2. Matplotlib\n",
    "3. TensorFlow"
   ]
  },
  {
   "cell_type": "markdown",
   "id": "cb029caf",
   "metadata": {},
   "source": [
    "|         Data Science Tools             |\n",
    "| ------- | ------------- | ------------ |\n",
    "| Rstudio | apache hadoop | apache spark |"
   ]
  },
  {
   "cell_type": "markdown",
   "id": "0ba015f7",
   "metadata": {},
   "source": [
    "### Below are a few examples of evaluating arithmetic expressions in Python.\n"
   ]
  },
  {
   "cell_type": "code",
   "execution_count": 1,
   "id": "b9f368dd",
   "metadata": {},
   "outputs": [
    {
     "data": {
      "text/plain": [
       "17"
      ]
     },
     "execution_count": 1,
     "metadata": {},
     "output_type": "execute_result"
    }
   ],
   "source": [
    "#this is a simple arithmetic expression to multiply then add integers\n",
    "(3*4)+5"
   ]
  },
  {
   "cell_type": "code",
   "execution_count": 2,
   "id": "1ab20d2e",
   "metadata": {},
   "outputs": [
    {
     "data": {
      "text/plain": [
       "3.3333333333333335"
      ]
     },
     "execution_count": 2,
     "metadata": {},
     "output_type": "execute_result"
    }
   ],
   "source": [
    "#This will convert 200 minutes to hours by diving by 60\n",
    "200/60"
   ]
  },
  {
   "cell_type": "markdown",
   "id": "5e5cf7c5",
   "metadata": {},
   "source": [
    "__objectives__:\n",
    "- list popular languages of data science\n",
    "- Create a markdown cell with a table of Data Science tools\n",
    "- Create a markdown cell to list data science libraries\n",
    "- Create markdown cell with title of the notebook\n",
    "- Create a Jupyter Notebook\n",
    "\n"
   ]
  },
  {
   "cell_type": "markdown",
   "id": "df7c1090",
   "metadata": {},
   "source": [
    "## Author\n",
    "Mohamed ben maaouia"
   ]
  },
  {
   "cell_type": "code",
   "execution_count": null,
   "id": "0f6720a8",
   "metadata": {},
   "outputs": [],
   "source": []
  }
 ],
 "metadata": {
  "kernelspec": {
   "display_name": "Python 3 (ipykernel)",
   "language": "python",
   "name": "python3"
  },
  "language_info": {
   "codemirror_mode": {
    "name": "ipython",
    "version": 3
   },
   "file_extension": ".py",
   "mimetype": "text/x-python",
   "name": "python",
   "nbconvert_exporter": "python",
   "pygments_lexer": "ipython3",
   "version": "3.11.5"
  }
 },
 "nbformat": 4,
 "nbformat_minor": 5
}
